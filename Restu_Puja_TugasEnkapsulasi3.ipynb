{
  "nbformat": 4,
  "nbformat_minor": 0,
  "metadata": {
    "colab": {
      "provenance": [],
      "include_colab_link": true
    },
    "kernelspec": {
      "name": "python3",
      "display_name": "Python 3"
    },
    "language_info": {
      "name": "python"
    }
  },
  "cells": [
    {
      "cell_type": "markdown",
      "metadata": {
        "id": "view-in-github",
        "colab_type": "text"
      },
      "source": [
        "<a href=\"https://colab.research.google.com/github/1restu/Lab01/blob/main/Restu_Puja_TugasEnkapsulasi3.ipynb\" target=\"_parent\"><img src=\"https://colab.research.google.com/assets/colab-badge.svg\" alt=\"Open In Colab\"/></a>"
      ]
    },
    {
      "cell_type": "markdown",
      "source": [
        "Buatlah kelas RekeningBank dengan atribut berikut:\n",
        "\n",
        "*   nama_pemilik (private)\n",
        "*   saldo (private)\n",
        "\n",
        "Berikan metode berikut:\n",
        "\n",
        "*   __init__: Menginisialisasi saldo dan nama_pemilik.\n",
        "*   set_saldo: Mengubah nilai saldo.\n",
        "*   get_saldo: Mengembalikan nilai saldo.\n",
        "*   set_nama_pemilik: Mengubah nama pemilik.\n",
        "*   get_nama_pemilik: Mengembalikan nama pemilik.\n",
        "\n",
        "\n",
        "\n",
        "\n",
        "\n",
        "\n",
        "\n",
        "\n"
      ],
      "metadata": {
        "id": "PktiI90eS6Ee"
      }
    },
    {
      "cell_type": "code",
      "source": [
        "#Hak coding oleh Restu puja\n",
        "# Desain class\n",
        "class Rekening_Bank():\n",
        "  def __init__(self,Pemilik,saldo,setor,tarik):\n",
        "    self.__Pemilik = Pemilik\n",
        "    self.__saldo = saldo\n",
        "    self.__setor = setor\n",
        "    self.__tarik = tarik\n",
        "\n",
        "  def get_Pemilik(self):\n",
        "    return self.__Pemilik\n",
        "\n",
        "  def set_Pemilik(self,Pemilik):\n",
        "    self.__Pemilik = Pemilik\n",
        "\n",
        "  def get_saldo(self):\n",
        "    return self.__saldo\n",
        "\n",
        "  def set_saldo(self,saldo):\n",
        "    if saldo > 7000000:\n",
        "      self.__saldo = 8000000\n",
        "    elif saldo < 6000000:\n",
        "      self.__saldo = 500000\n",
        "    else:\n",
        "      self.__saldo = saldo\n",
        "\n",
        "  def get_setor(self):\n",
        "    return self.__setor\n",
        "\n",
        "  def set_setor(self,setor):\n",
        "    self.__setor = setor\n",
        "\n",
        "  def get_tarik(self):\n",
        "    return self.__tarik\n",
        "\n",
        "  def set_tarik(self,tarik):\n",
        "    self.__tarik = tarik\n",
        "\n",
        "  def get_setorUang (self):\n",
        "    return print(\"Penyetoran uang berhasil,Total saldo anda sekarang adalah Rp \",self.__saldo + self.__setor)\n",
        "\n",
        "  def set_tarikUang (self):\n",
        "    if self.__saldo > self.__tarik :\n",
        "      print(\"penarikan Berhasil sisa saldo anda sekarang adalah sebesar Rp\", self.__saldo-self.__tarik)\n",
        "    else:\n",
        "      print(\"uang anda Tidak cukup Untuk penarikan\")"
      ],
      "metadata": {
        "id": "Pyj-mkyciVfk"
      },
      "execution_count": 63,
      "outputs": []
    },
    {
      "cell_type": "code",
      "source": [
        "#Program utama untuk mendemonstrasikan class RekeningBank sebelum di set\n",
        "BCA = Rekening_Bank('Restu Alkhwarizmi',100000000,1200000,300000)\n",
        "BCA.get_setorUang()\n",
        "BCA.set_tarikUang()\n",
        "#penggunaan penarikan dan setor sebelum di set\n",
        "BCA.set_setor(100000)\n",
        "BCA.set_saldo(100000)\n",
        "BCA.set_tarik(2000000)\n",
        "\n",
        "#penggunakan penarikan stor dan tarik setelah di set\n",
        "BCA.get_setorUang()\n",
        "BCA.set_tarikUang()"
      ],
      "metadata": {
        "id": "aOwy6rfdSga2",
        "colab": {
          "base_uri": "https://localhost:8080/"
        },
        "outputId": "b479b28c-c009-4d92-a1ad-80785de3d81f"
      },
      "execution_count": 72,
      "outputs": [
        {
          "output_type": "stream",
          "name": "stdout",
          "text": [
            "Penyetoran uang berhasil,Total saldo anda sekarang adalah Rp  101200000\n",
            "penarikan Berhasil sisa saldo anda sekarang adalah sebesar Rp 99700000\n",
            "Penyetoran uang berhasil,Total saldo anda sekarang adalah Rp  600000\n",
            "uang anda Tidak cukup Untuk penarikan\n"
          ]
        }
      ]
    }
  ]
}