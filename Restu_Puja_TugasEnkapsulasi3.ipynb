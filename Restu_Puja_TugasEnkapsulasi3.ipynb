{
  "nbformat": 4,
  "nbformat_minor": 0,
  "metadata": {
    "colab": {
      "provenance": [],
      "include_colab_link": true
    },
    "kernelspec": {
      "name": "python3",
      "display_name": "Python 3"
    },
    "language_info": {
      "name": "python"
    }
  },
  "cells": [
    {
      "cell_type": "markdown",
      "metadata": {
        "id": "view-in-github",
        "colab_type": "text"
      },
      "source": [
        "<a href=\"https://colab.research.google.com/github/1restu/Lab01/blob/main/Restu_Puja_TugasEnkapsulasi3.ipynb\" target=\"_parent\"><img src=\"https://colab.research.google.com/assets/colab-badge.svg\" alt=\"Open In Colab\"/></a>"
      ]
    },
    {
      "cell_type": "markdown",
      "source": [
        "Buatlah kelas RekeningBank dengan atribut berikut:\n",
        "\n",
        "*   nama_pemilik (private)\n",
        "*   saldo (private)\n",
        "\n",
        "Berikan metode berikut:\n",
        "\n",
        "*   __init__: Menginisialisasi saldo dan nama_pemilik.\n",
        "*   set_saldo: Mengubah nilai saldo.\n",
        "*   get_saldo: Mengembalikan nilai saldo.\n",
        "*   set_nama_pemilik: Mengubah nama pemilik.\n",
        "*   get_nama_pemilik: Mengembalikan nama pemilik.\n",
        "\n",
        "\n",
        "\n",
        "\n",
        "\n",
        "\n",
        "\n",
        "\n"
      ],
      "metadata": {
        "id": "PktiI90eS6Ee"
      }
    },
    {
      "cell_type": "code",
      "source": [
        "from re import S\n",
        "#Hak coding oleh Restu puja\n",
        "# Desain class\n",
        "class Rekening_Bank():\n",
        "  def __init__(self,Pemilik,saldo):\n",
        "    self.__Pemilik = Pemilik\n",
        "    self.__saldo = saldo\n",
        "\n",
        "  def get_Pemilik(self):\n",
        "    return self.__Pemilik\n",
        "\n",
        "  def set_Pemilik(self,Pemilik):\n",
        "    self.__Pemilik = Pemilik\n",
        "\n",
        "  def get_saldo(self):\n",
        "    return self.__saldo\n",
        "\n",
        "  def set_saldo(self,saldo):\n",
        "    self.__saldo = saldo\n",
        "\n",
        "  def setor(self,jumlah_setor):\n",
        "    self.__saldo += jumlah_setor\n",
        "    print(\"Penyetoran Uang berhasil,saldo anda kini sebesar Rp\", self.__saldo )\n",
        "\n",
        "  def tarikUang(self,Tarik):\n",
        "    if self.__saldo > Tarik :\n",
        "      self.__saldo -= Tarik\n",
        "      print(\"penarikan Berhasil sisa saldo anda sekarang adalah sebesar Rp\", self.__saldo)\n",
        "    else:\n",
        "      print(\"uang anda Tidak cukup Untuk penarikan\")"
      ],
      "metadata": {
        "id": "Pyj-mkyciVfk"
      },
      "execution_count": 18,
      "outputs": []
    },
    {
      "cell_type": "code",
      "source": [
        "#Program utama untuk mendemonstrasikan class RekeningBank sebelum di set\n",
        "BCA = Rekening_Bank('Restu Alkhwarizmi',10)\n",
        "\n",
        "BCA.setor(10)\n",
        "BCA.tarikUang(7)"
      ],
      "metadata": {
        "id": "aOwy6rfdSga2",
        "colab": {
          "base_uri": "https://localhost:8080/"
        },
        "outputId": "31082bca-e831-4c05-9c3b-8455cdb0de4e"
      },
      "execution_count": 19,
      "outputs": [
        {
          "output_type": "stream",
          "name": "stdout",
          "text": [
            "Penyetoran Uang berhasil,saldo anda kini sebesar Rp 20\n",
            "penarikan Berhasil sisa saldo anda sekarang adalah sebesar Rp 13\n"
          ]
        }
      ]
    }
  ]
}