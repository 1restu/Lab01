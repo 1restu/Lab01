{
  "nbformat": 4,
  "nbformat_minor": 0,
  "metadata": {
    "colab": {
      "provenance": [],
      "include_colab_link": true
    },
    "kernelspec": {
      "name": "python3",
      "display_name": "Python 3"
    },
    "language_info": {
      "name": "python"
    }
  },
  "cells": [
    {
      "cell_type": "markdown",
      "metadata": {
        "id": "view-in-github",
        "colab_type": "text"
      },
      "source": [
        "<a href=\"https://colab.research.google.com/github/1restu/Lab01/blob/main/Restu_Puja_TryoutUTSPraktek.ipynb\" target=\"_parent\"><img src=\"https://colab.research.google.com/assets/colab-badge.svg\" alt=\"Open In Colab\"/></a>"
      ]
    },
    {
      "cell_type": "markdown",
      "source": [
        "Anda adalah seorang ilmuwan lingkungan yang bekerja dalam penelitian organisme di berbagai ekosistem. Anda memiliki kelas dasar Organisme dengan atribut berikut:\n",
        "\n",
        "*   nama (nama organisme)\n",
        "*   jenis (jenis organisme, misalnya, tumbuhan, hewan, mikroba, dll.)\n",
        "\n",
        "Selain itu, Anda memiliki dua jenis organisme spesifik: **Tumbuhan** dan **Hewan**.\n",
        "\n",
        "Tumbuhan memiliki atribut tambahan yaitu lokasi (lokasi tumbuhan ditemukan, misalnya, hutan, sungai, dll.)\n",
        "\n",
        "Sementara Hewan memiliki atribut tambahan yaitu makanan (jenis makanan yang dikonsumsi hewan, misalnya, herbivora, karnivora, omnivora, dll.)\n",
        "\n",
        "\n",
        "Anda ditugaskan membuat program Python yang memungkinkan Anda untuk mencetak informasi tentang setiap organisme, termasuk nama, jenis, serta atribut tambahan yang sesuai (lokasi atau jenis makanan)."
      ],
      "metadata": {
        "id": "Xcnm52jtL9YY"
      }
    },
    {
      "cell_type": "code",
      "execution_count": 1,
      "metadata": {
        "id": "9pLv2WhSLUZc"
      },
      "outputs": [],
      "source": [
        "#Buat class Organisme disini\n",
        "class Organisme:\n",
        "  def __init__(self,nama,jenis,nama_ilmiah):\n",
        "    self.nama = nama\n",
        "    self.jenis = jenis\n",
        "    self.nama_ilmiah = nama_ilmiah\n",
        "\n",
        "  def identifikasi(self):\n",
        "    print('Organisme bernama :', self.nama,',Berjenis :', self.jenis, 'Dan memili Nama ilmiah', self.nama_ilmiah)"
      ]
    },
    {
      "cell_type": "code",
      "source": [
        "#Buat class Tumbuhan disini\n",
        "class Tumbuhan (Organisme):\n",
        "  def __init__(self,nama,jenis,nama_ilmiah,lokasi):\n",
        "    super().__init__(nama,jenis,nama_ilmiah)\n",
        "    self.lokasi = lokasi\n",
        "\n",
        "  def identifikasi(self):\n",
        "    super().identifikasi()\n",
        "    print('--> Tumbuhan ini Hidup dan Banyak ditemukan di', self.lokasi)"
      ],
      "metadata": {
        "id": "aZ-2FjdaObMu"
      },
      "execution_count": 2,
      "outputs": []
    },
    {
      "cell_type": "code",
      "source": [
        "class Hewan (Organisme):\n",
        "  def __init__(self,nama,jenis,nama_ilmiah,Makanan):\n",
        "    super().__init__(nama,jenis,nama_ilmiah)\n",
        "    self.Makanan = Makanan\n",
        "\n",
        "  def identifikasi(self):\n",
        "    super().identifikasi()\n",
        "    print('--> Hewan ini dapat di kelompokan ke Kelompok Hewan', self.Makanan)\n",
        "#Buat class Hewan disini"
      ],
      "metadata": {
        "id": "ItwqUUUjOdp4"
      },
      "execution_count": 3,
      "outputs": []
    },
    {
      "cell_type": "code",
      "source": [
        "#Buat program disini untuk menggunakan class-class di atas dan menampilkan informasi\n",
        "\n",
        "#Tumbuhan\n",
        "alga = Tumbuhan ('Alga','Cladophora Algae' , 'Cladophora glomerata', 'Sungai Air Tawar')\n",
        "\n",
        "#Hewan\n",
        "sapi = Hewan ('sapi','Ongole','Bos Indicus','Herbivora')\n",
        "\n",
        "#Deskripsi Tumbuhan\n",
        "print(\"identifikasi Tumbuhan :\")\n",
        "alga.identifikasi()\n",
        "\n",
        "print(\"---------------------------------------------------------------------------------------------------------------\")\n",
        "#Deskripsi Hewan\n",
        "print(\"identifikasi Hewan :\")\n",
        "sapi.identifikasi()"
      ],
      "metadata": {
        "id": "gWi4_l0gOe-8",
        "colab": {
          "base_uri": "https://localhost:8080/"
        },
        "outputId": "cc04fe30-3e6f-467c-b915-457edf60c19b"
      },
      "execution_count": 4,
      "outputs": [
        {
          "output_type": "stream",
          "name": "stdout",
          "text": [
            "identifikasi Tumbuhan :\n",
            "Organisme bernama : Alga ,Berjenis : Cladophora Algae Dan memili Nama ilmiah Cladophora glomerata\n",
            "--> Tumbuhan ini Hidup dan Banyak ditemukan di Sungai Air Tawar\n",
            "---------------------------------------------------------------------------------------------------------------\n",
            "identifikasi Hewan :\n",
            "Organisme bernama : sapi ,Berjenis : Ongole Dan memili Nama ilmiah Bos Indicus\n",
            "--> Hewan ini dapat di kelompokan ke Kelompok Hewan Herbivora\n"
          ]
        }
      ]
    },
    {
      "cell_type": "markdown",
      "source": [
        "# Penjelasan:\n",
        "\n",
        "Class Organisme adalah kelas induk dengan atribut **nama**,**jenis** dan **nama ilmiah**. Fungsi **identifikasi** dalam kelas ini mencetak informasi umum tentang organisme.\n",
        "\n",
        "Class **Tumbuhan** mewarisi dari class Organisme dan memiliki atribut tambahan **lokasi**. Fungsi **nama,jenis dan nama ilmiah** dalam class ini memanggil fungsi **nama,jenis dan nama ilmiah** dari class dasar (super().deskripsi()) dan mencetak informasi tambahan tentang tumbuhan, yaitu **lokasi**.\n",
        "\n",
        "Class **Hewan** juga mewarisi dari class **Organisme** dan memiliki atribut tambahan **makanan**. Fungsi **makanan** dalam class ini juga memanggil fungsi tambahan dari class organisme dan mencetak informasi tambahan tentang jenis hewan dari makanan, yaitu **fungsi makanan**"
      ],
      "metadata": {
        "id": "2xAfWE4hMnGD"
      }
    }
  ]
}