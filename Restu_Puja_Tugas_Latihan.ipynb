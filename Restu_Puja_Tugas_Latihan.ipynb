{
  "nbformat": 4,
  "nbformat_minor": 0,
  "metadata": {
    "colab": {
      "provenance": [],
      "include_colab_link": true
    },
    "kernelspec": {
      "name": "python3",
      "display_name": "Python 3"
    },
    "language_info": {
      "name": "python"
    }
  },
  "cells": [
    {
      "cell_type": "markdown",
      "metadata": {
        "id": "view-in-github",
        "colab_type": "text"
      },
      "source": [
        "<a href=\"https://colab.research.google.com/github/1restu/Lab01/blob/main/Restu_Puja_Tugas_Latihan.ipynb\" target=\"_parent\"><img src=\"https://colab.research.google.com/assets/colab-badge.svg\" alt=\"Open In Colab\"/></a>"
      ]
    },
    {
      "cell_type": "markdown",
      "source": [
        "Sebuah start-up GoPay merupakan perusahaan vintage yang menjadi alat pembayaran aplikasi marketplace dan lainnya. Anda seorang programmer yang ditugaskan untuk membuat aplikasi GoPay yang memiliki sebuah class bernama AkunGopay, yang memiliki atribut no_hp, nama dan saldo, dimana semua atribut bersifat private, demi keamanan.\n",
        "\n",
        "\n",
        "Pengguna bisa mendaftar akun GoPay dengan no_hp dan nama saja, namun juga bisa mendaftar dengan no_hp, nama dan saldo. Jika mendaftar dengan no_hp dan nama saja maka saldo otomatis bernilai 0.\n",
        "\n",
        "\n",
        "Class AkunGopay harus menyediakan fungsi yang dapat diakses oleh Marketplace untuk melakukan transaksi, yaitu :\n",
        "\n",
        "1.   topUp(), yang digunakan untuk menambahkan saldo\n",
        "2.   bayarTransaksi(), yang mengurangi saldo ketika melakukan transaksi\n",
        "3.   getSaldo(), untuk mengetahui jumlah saldo\n",
        "\n",
        "\n",
        "\n",
        "Teman Anda adalah seorang programer yang bekerja di sebuah start-up terkemuka Tokopedia yang bekerjasama dengan start-up keuangan GoPay. Anda ditugaskan membuat apikasi yang memiliki class AkunToped, dan memiliki atribut nama dan nomer_hp.\n",
        "\n",
        "Class AkunToped harus menyediakan fungsi yang untuk melakukan transaksi, yaitu:\n",
        "\n",
        "1. transaksi(), yang digunakan untuk mengurangi saldo Gopay dengan paramater nominal transaksi.\n",
        "2. getSaldo(), untuk mengetahui jumlah saldo Gopay.\n",
        "\n"
      ],
      "metadata": {
        "id": "NOQKwrfHB4pv"
      }
    },
    {
      "cell_type": "code",
      "execution_count": 61,
      "metadata": {
        "id": "peDTMz-5kxlh"
      },
      "outputs": [],
      "source": [
        "#Desain Class\n",
        "class AkunGopay():\n",
        "  def __init__(self,no_hp,nama,saldo = 0):\n",
        "    self.__no_hp = no_hp\n",
        "    self.__nama = nama\n",
        "    self.__saldo = saldo\n",
        "\n",
        "  def DaftarGopay(self):\n",
        "    print('Pendaftaran Akun berhasil atas nama',self.__nama ,'dengan nomer HP', self.__no_hp,'anda sekarang mempunyai saldo sebesar :','Rp',self.__saldo)\n",
        "\n",
        "  def Topup(self,jumlah_Topup):\n",
        "    self.__saldo += jumlah_Topup\n",
        "    print(\"Topup berhasil,saldo anda kini sebesar Rp\", self.__saldo )\n",
        "\n",
        "  def bayarTransaksi(self,Besar_transaksi):\n",
        "    if self.__saldo > Besar_transaksi :\n",
        "      self.__saldo -= Besar_transaksi\n",
        "      print(\"Transaksi Berhasil sisa saldo anda sekarang adalah sebesar Rp\", self.__saldo)\n",
        "    else:\n",
        "      print(\"Saldo anda Tidak cukup Untuk melakukan transaksi\")\n",
        "\n",
        "  def get_saldo(self):\n",
        "    return self.__saldo\n",
        "\n",
        "  def set_saldo(self,saldo):\n",
        "    self.__saldo = saldo\n",
        "\n",
        "\n",
        "class AkunTokped():\n",
        "  def __init__(self,no_hp,nama):\n",
        "    self.__no_hp = no_hp\n",
        "    self.__nama = nama\n",
        "\n",
        "  def transaksi(self,gopay,jumlah_transaksi):\n",
        "    gopay.bayarTransaksi(jumlah_transaksi)\n",
        "\n",
        "  def get_saldo(self,gopay):\n",
        "    print('Akun Gopay anda mempunyai saldo sebesar : Rp',gopay.get_saldo())"
      ]
    },
    {
      "cell_type": "code",
      "source": [
        "#Main Program\n",
        "satu = AkunGopay(82182001,'andri')\n",
        "satu.DaftarGopay()\n",
        "print('')\n",
        "satu.set_saldo(2999999)\n",
        "print(satu.get_saldo())\n",
        "print('')\n",
        "satu.bayarTransaksi(20000)\n",
        "print('')\n",
        "\n",
        "satu.Topup(400)\n",
        "\n",
        "print('')\n",
        "dua = AkunTokped(212313121,'hansen')\n",
        "print('')\n",
        "dua.transaksi(satu,400)\n",
        "print('')\n",
        "dua.get_saldo(satu)"
      ],
      "metadata": {
        "id": "eitzekkYkycQ",
        "colab": {
          "base_uri": "https://localhost:8080/"
        },
        "outputId": "23bc7d5d-b906-4fd0-b3b1-a9bc7ba1f99f"
      },
      "execution_count": 62,
      "outputs": [
        {
          "output_type": "stream",
          "name": "stdout",
          "text": [
            "Pendaftaran Akun berhasil atas nama andri dengan nomer HP 82182001 anda sekarang mempunyai saldo sebesar : Rp 0\n",
            "\n",
            "2999999\n",
            "\n",
            "Transaksi Berhasil sisa saldo anda sekarang adalah sebesar Rp 2979999\n",
            "\n",
            "Topup berhasil,saldo anda kini sebesar Rp 2980399\n",
            "\n",
            "\n",
            "Transaksi Berhasil sisa saldo anda sekarang adalah sebesar Rp 2979999\n",
            "\n",
            "Akun Gopay anda mempunyai saldo sebesar : Rp 2979999\n"
          ]
        }
      ]
    }
  ]
}