{
  "nbformat": 4,
  "nbformat_minor": 0,
  "metadata": {
    "colab": {
      "provenance": [],
      "include_colab_link": true
    },
    "kernelspec": {
      "name": "python3",
      "display_name": "Python 3"
    },
    "language_info": {
      "name": "python"
    }
  },
  "cells": [
    {
      "cell_type": "markdown",
      "metadata": {
        "id": "view-in-github",
        "colab_type": "text"
      },
      "source": [
        "<a href=\"https://colab.research.google.com/github/1restu/Lab01/blob/main/Restu_Puja_Tugas_Overloading_2.ipynb\" target=\"_parent\"><img src=\"https://colab.research.google.com/assets/colab-badge.svg\" alt=\"Open In Colab\"/></a>"
      ]
    },
    {
      "cell_type": "code",
      "execution_count": 2,
      "metadata": {
        "id": "5zCytCeM1uD4"
      },
      "outputs": [],
      "source": [
        "#class Nama\n",
        "class Nama():\n",
        "\n",
        "#Buat fungsi yang digunakan untuk mengabungkan nama dengan ketentuan nama depan, nama tengah, nama akhir, dan seterusnya dianggap 1 (satu) parameter\n",
        "  def GabungNama(self, nama_awal = \"\",nama_tengah = \"\",nama_akhir = \"\"):\n",
        "    print(nama_awal + nama_tengah + nama_akhir)"
      ]
    },
    {
      "cell_type": "code",
      "source": [
        "#Buat main program\n",
        "Coba = Nama()\n",
        "#Panggil fungsi untuk membuat nama lengkap 4 nama teman kalian\n",
        "Coba.GabungNama(\"restu \",\"Puja \",\"Fadhilla\")\n",
        "Coba.GabungNama(\"Bryan \",\"Habibi \",\"Achmad\")\n",
        "Coba.GabungNama(\"Nia \",\"Rahmadani\")\n",
        "Coba.GabungNama(\"Bryan \")"
      ],
      "metadata": {
        "id": "liQBcJWZ12MN",
        "colab": {
          "base_uri": "https://localhost:8080/"
        },
        "outputId": "bfaecb58-4c1f-476c-ddbb-8b81730f2064"
      },
      "execution_count": 11,
      "outputs": [
        {
          "output_type": "stream",
          "name": "stdout",
          "text": [
            "restu Puja Fadhilla\n",
            "Bryan Habibi Achmad\n",
            "Nia Rahmadani\n",
            "Bryan \n"
          ]
        }
      ]
    },
    {
      "cell_type": "code",
      "source": [
        "Tulisakan kesimpulan dari materi Overloading menurut pemahaman anda!\n",
        "Menarik dan membuat saya lebih paham dengan Coding"
      ],
      "metadata": {
        "id": "xwFmppIG3JGE"
      },
      "execution_count": null,
      "outputs": []
    }
  ]
}