{
  "nbformat": 4,
  "nbformat_minor": 0,
  "metadata": {
    "colab": {
      "provenance": [],
      "include_colab_link": true
    },
    "kernelspec": {
      "name": "python3",
      "display_name": "Python 3"
    },
    "language_info": {
      "name": "python"
    }
  },
  "cells": [
    {
      "cell_type": "markdown",
      "metadata": {
        "id": "view-in-github",
        "colab_type": "text"
      },
      "source": [
        "<a href=\"https://colab.research.google.com/github/1restu/Lab01/blob/main/Restu_puja_TugasInheritanceSiswa2.ipynb\" target=\"_parent\"><img src=\"https://colab.research.google.com/assets/colab-badge.svg\" alt=\"Open In Colab\"/></a>"
      ]
    },
    {
      "cell_type": "markdown",
      "source": [
        "Buatlah tiga kelas: User, Siswa, dan Guru. Class Siswa dan Guru mewarisi atribute dan fungsi dari class User. Keduanya menambahkan atribut dan fungsi tambahan sesuai dengan peran masing-masing.\n",
        "\n",
        "Output dari program ini akan menampilkan informasi seorang siswa dan seorang guru dengan menggunakan fungsi tampil_info() yang diwarisi dari class User. Untuk info user yang ditampilkan silakan ditentukan sendiri minimal ada nama dan umur.\n",
        "\n",
        "Untuk informasi khusus dari siswa dan guru silakan tentukan sendiri, minimal satu atribute tambahan yang membedakan antara siswa dan guru."
      ],
      "metadata": {
        "id": "oWYx5WDsIouf"
      }
    },
    {
      "cell_type": "code",
      "execution_count": 58,
      "metadata": {
        "id": "VQWWW4rpH9ve"
      },
      "outputs": [],
      "source": [
        "#Class User\n",
        "\n",
        "class User:\n",
        "  def __init__(self,nama,id):\n",
        "    self.id = id\n",
        "    self.nama = nama"
      ]
    },
    {
      "cell_type": "code",
      "source": [
        "#Class Siswa\n",
        "\n",
        "class siswa(User):\n",
        "  pass\n",
        "  def __init__(self,nama,id,kelas,jurusan):\n",
        "    super().__init__(nama,id)\n",
        "    self.kelas = kelas\n",
        "    self.jurusan = jurusan\n",
        "\n",
        "  def tampil_info (self):\n",
        "    print(f'nama siswa {self.nama} dari kelas {self.kelas} Jurusan {self.jurusan} id siswa {self.id}')"
      ],
      "metadata": {
        "id": "i_iBjMciJJc5"
      },
      "execution_count": 62,
      "outputs": []
    },
    {
      "cell_type": "code",
      "source": [
        "#Class Guru\n",
        "\n",
        "class Guru(User):\n",
        "  pass\n",
        "  def __init__(self,nama ,id,wali_murid_kelas,mapel):\n",
        "    super().__init__(nama,id)\n",
        "    self.wali_murid_kelas = wali_murid_kelas\n",
        "    self.mapel = mapel\n",
        "\n",
        "  def tampil_info (self):\n",
        "    print(f'Nama guru {self.nama},Id Guru {self.id},Guru dari mata pelajaran {self.mapel} dan wali kelas dari kelas {self.wali_murid_kelas}')"
      ],
      "metadata": {
        "id": "lrnlKm6sJMjp"
      },
      "execution_count": 65,
      "outputs": []
    },
    {
      "cell_type": "code",
      "source": [
        "#Program utama untuk menampilkan info\n",
        "Budi = siswa('budi', '5687FG', 'XI', 'RPL')\n",
        "Budi.tampil_info()\n",
        "\n",
        "Arif = Guru('Arif', '67577OP', 'XI', 'Matematika')\n",
        "Arif.tampil_info()"
      ],
      "metadata": {
        "id": "VDGIma_2JOVx",
        "colab": {
          "base_uri": "https://localhost:8080/"
        },
        "outputId": "a42596a5-0835-46c2-aa05-f14b72b941b7"
      },
      "execution_count": 66,
      "outputs": [
        {
          "output_type": "stream",
          "name": "stdout",
          "text": [
            "nama siswa budi dari kelas XI Jurusan RPL id siswa 5687FG\n",
            "Nama guru Arif,Id Guru 67577OP,Guru dari mata pelajaran Matematika dan wali kelas dari kelas XI\n"
          ]
        }
      ]
    }
  ]
}